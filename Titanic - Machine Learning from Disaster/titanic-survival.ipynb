{
 "cells": [
  {
   "cell_type": "code",
   "execution_count": 1,
   "id": "54019aa0",
   "metadata": {
    "execution": {
     "iopub.execute_input": "2021-11-15T16:53:15.844950Z",
     "iopub.status.busy": "2021-11-15T16:53:15.843538Z",
     "iopub.status.idle": "2021-11-15T16:53:16.922663Z",
     "shell.execute_reply": "2021-11-15T16:53:16.921749Z",
     "shell.execute_reply.started": "2021-11-15T16:52:08.742689Z"
    },
    "papermill": {
     "duration": 1.103939,
     "end_time": "2021-11-15T16:53:16.922833",
     "exception": false,
     "start_time": "2021-11-15T16:53:15.818894",
     "status": "completed"
    },
    "tags": []
   },
   "outputs": [],
   "source": [
    "import pandas as pd\n",
    "import numpy as np\n",
    "import matplotlib.pyplot as plt\n",
    "import seaborn as sns\n",
    "from sklearn import preprocessing"
   ]
  },
  {
   "cell_type": "code",
   "execution_count": 2,
   "id": "281edcd9",
   "metadata": {
    "execution": {
     "iopub.execute_input": "2021-11-15T16:53:16.972193Z",
     "iopub.status.busy": "2021-11-15T16:53:16.970037Z",
     "iopub.status.idle": "2021-11-15T16:53:17.001191Z",
     "shell.execute_reply": "2021-11-15T16:53:17.001801Z",
     "shell.execute_reply.started": "2021-11-15T16:52:08.748103Z"
    },
    "papermill": {
     "duration": 0.059912,
     "end_time": "2021-11-15T16:53:17.001973",
     "exception": false,
     "start_time": "2021-11-15T16:53:16.942061",
     "status": "completed"
    },
    "tags": []
   },
   "outputs": [],
   "source": [
    "df = pd.read_csv('/kaggle/input/titanic/train.csv')\n",
    "df1 = pd.read_csv('/kaggle/input/titanic//test.csv')"
   ]
  },
  {
   "cell_type": "code",
   "execution_count": 3,
   "id": "0717f003",
   "metadata": {
    "execution": {
     "iopub.execute_input": "2021-11-15T16:53:17.042427Z",
     "iopub.status.busy": "2021-11-15T16:53:17.041727Z",
     "iopub.status.idle": "2021-11-15T16:53:17.066117Z",
     "shell.execute_reply": "2021-11-15T16:53:17.066915Z",
     "shell.execute_reply.started": "2021-11-15T16:52:08.774492Z"
    },
    "papermill": {
     "duration": 0.046626,
     "end_time": "2021-11-15T16:53:17.067103",
     "exception": false,
     "start_time": "2021-11-15T16:53:17.020477",
     "status": "completed"
    },
    "tags": []
   },
   "outputs": [
    {
     "data": {
      "text/html": [
       "<div>\n",
       "<style scoped>\n",
       "    .dataframe tbody tr th:only-of-type {\n",
       "        vertical-align: middle;\n",
       "    }\n",
       "\n",
       "    .dataframe tbody tr th {\n",
       "        vertical-align: top;\n",
       "    }\n",
       "\n",
       "    .dataframe thead th {\n",
       "        text-align: right;\n",
       "    }\n",
       "</style>\n",
       "<table border=\"1\" class=\"dataframe\">\n",
       "  <thead>\n",
       "    <tr style=\"text-align: right;\">\n",
       "      <th></th>\n",
       "      <th>PassengerId</th>\n",
       "      <th>Survived</th>\n",
       "      <th>Pclass</th>\n",
       "      <th>Name</th>\n",
       "      <th>Sex</th>\n",
       "      <th>Age</th>\n",
       "      <th>SibSp</th>\n",
       "      <th>Parch</th>\n",
       "      <th>Ticket</th>\n",
       "      <th>Fare</th>\n",
       "      <th>Cabin</th>\n",
       "      <th>Embarked</th>\n",
       "    </tr>\n",
       "  </thead>\n",
       "  <tbody>\n",
       "    <tr>\n",
       "      <th>0</th>\n",
       "      <td>1</td>\n",
       "      <td>0</td>\n",
       "      <td>3</td>\n",
       "      <td>Braund, Mr. Owen Harris</td>\n",
       "      <td>male</td>\n",
       "      <td>22.0</td>\n",
       "      <td>1</td>\n",
       "      <td>0</td>\n",
       "      <td>A/5 21171</td>\n",
       "      <td>7.2500</td>\n",
       "      <td>NaN</td>\n",
       "      <td>S</td>\n",
       "    </tr>\n",
       "    <tr>\n",
       "      <th>1</th>\n",
       "      <td>2</td>\n",
       "      <td>1</td>\n",
       "      <td>1</td>\n",
       "      <td>Cumings, Mrs. John Bradley (Florence Briggs Th...</td>\n",
       "      <td>female</td>\n",
       "      <td>38.0</td>\n",
       "      <td>1</td>\n",
       "      <td>0</td>\n",
       "      <td>PC 17599</td>\n",
       "      <td>71.2833</td>\n",
       "      <td>C85</td>\n",
       "      <td>C</td>\n",
       "    </tr>\n",
       "    <tr>\n",
       "      <th>2</th>\n",
       "      <td>3</td>\n",
       "      <td>1</td>\n",
       "      <td>3</td>\n",
       "      <td>Heikkinen, Miss. Laina</td>\n",
       "      <td>female</td>\n",
       "      <td>26.0</td>\n",
       "      <td>0</td>\n",
       "      <td>0</td>\n",
       "      <td>STON/O2. 3101282</td>\n",
       "      <td>7.9250</td>\n",
       "      <td>NaN</td>\n",
       "      <td>S</td>\n",
       "    </tr>\n",
       "    <tr>\n",
       "      <th>3</th>\n",
       "      <td>4</td>\n",
       "      <td>1</td>\n",
       "      <td>1</td>\n",
       "      <td>Futrelle, Mrs. Jacques Heath (Lily May Peel)</td>\n",
       "      <td>female</td>\n",
       "      <td>35.0</td>\n",
       "      <td>1</td>\n",
       "      <td>0</td>\n",
       "      <td>113803</td>\n",
       "      <td>53.1000</td>\n",
       "      <td>C123</td>\n",
       "      <td>S</td>\n",
       "    </tr>\n",
       "    <tr>\n",
       "      <th>4</th>\n",
       "      <td>5</td>\n",
       "      <td>0</td>\n",
       "      <td>3</td>\n",
       "      <td>Allen, Mr. William Henry</td>\n",
       "      <td>male</td>\n",
       "      <td>35.0</td>\n",
       "      <td>0</td>\n",
       "      <td>0</td>\n",
       "      <td>373450</td>\n",
       "      <td>8.0500</td>\n",
       "      <td>NaN</td>\n",
       "      <td>S</td>\n",
       "    </tr>\n",
       "  </tbody>\n",
       "</table>\n",
       "</div>"
      ],
      "text/plain": [
       "   PassengerId  Survived  Pclass  \\\n",
       "0            1         0       3   \n",
       "1            2         1       1   \n",
       "2            3         1       3   \n",
       "3            4         1       1   \n",
       "4            5         0       3   \n",
       "\n",
       "                                                Name     Sex   Age  SibSp  \\\n",
       "0                            Braund, Mr. Owen Harris    male  22.0      1   \n",
       "1  Cumings, Mrs. John Bradley (Florence Briggs Th...  female  38.0      1   \n",
       "2                             Heikkinen, Miss. Laina  female  26.0      0   \n",
       "3       Futrelle, Mrs. Jacques Heath (Lily May Peel)  female  35.0      1   \n",
       "4                           Allen, Mr. William Henry    male  35.0      0   \n",
       "\n",
       "   Parch            Ticket     Fare Cabin Embarked  \n",
       "0      0         A/5 21171   7.2500   NaN        S  \n",
       "1      0          PC 17599  71.2833   C85        C  \n",
       "2      0  STON/O2. 3101282   7.9250   NaN        S  \n",
       "3      0            113803  53.1000  C123        S  \n",
       "4      0            373450   8.0500   NaN        S  "
      ]
     },
     "execution_count": 3,
     "metadata": {},
     "output_type": "execute_result"
    }
   ],
   "source": [
    "df.head()"
   ]
  },
  {
   "cell_type": "code",
   "execution_count": 4,
   "id": "8e99ba3f",
   "metadata": {
    "execution": {
     "iopub.execute_input": "2021-11-15T16:53:17.109711Z",
     "iopub.status.busy": "2021-11-15T16:53:17.108955Z",
     "iopub.status.idle": "2021-11-15T16:53:17.114895Z",
     "shell.execute_reply": "2021-11-15T16:53:17.115525Z",
     "shell.execute_reply.started": "2021-11-15T16:52:08.802652Z"
    },
    "papermill": {
     "duration": 0.028448,
     "end_time": "2021-11-15T16:53:17.115706",
     "exception": false,
     "start_time": "2021-11-15T16:53:17.087258",
     "status": "completed"
    },
    "tags": []
   },
   "outputs": [
    {
     "data": {
      "text/plain": [
       "(891, 12)"
      ]
     },
     "execution_count": 4,
     "metadata": {},
     "output_type": "execute_result"
    }
   ],
   "source": [
    "df.shape"
   ]
  },
  {
   "cell_type": "code",
   "execution_count": 5,
   "id": "c3f3b971",
   "metadata": {
    "execution": {
     "iopub.execute_input": "2021-11-15T16:53:17.157434Z",
     "iopub.status.busy": "2021-11-15T16:53:17.156694Z",
     "iopub.status.idle": "2021-11-15T16:53:17.162801Z",
     "shell.execute_reply": "2021-11-15T16:53:17.163436Z",
     "shell.execute_reply.started": "2021-11-15T16:52:08.810960Z"
    },
    "papermill": {
     "duration": 0.029123,
     "end_time": "2021-11-15T16:53:17.163620",
     "exception": false,
     "start_time": "2021-11-15T16:53:17.134497",
     "status": "completed"
    },
    "tags": []
   },
   "outputs": [
    {
     "data": {
      "text/plain": [
       "Index(['PassengerId', 'Survived', 'Pclass', 'Name', 'Sex', 'Age', 'SibSp',\n",
       "       'Parch', 'Ticket', 'Fare', 'Cabin', 'Embarked'],\n",
       "      dtype='object')"
      ]
     },
     "execution_count": 5,
     "metadata": {},
     "output_type": "execute_result"
    }
   ],
   "source": [
    "df.columns"
   ]
  },
  {
   "cell_type": "code",
   "execution_count": 6,
   "id": "af2dbebc",
   "metadata": {
    "execution": {
     "iopub.execute_input": "2021-11-15T16:53:17.205638Z",
     "iopub.status.busy": "2021-11-15T16:53:17.204925Z",
     "iopub.status.idle": "2021-11-15T16:53:17.212855Z",
     "shell.execute_reply": "2021-11-15T16:53:17.213413Z",
     "shell.execute_reply.started": "2021-11-15T16:52:08.823184Z"
    },
    "papermill": {
     "duration": 0.030615,
     "end_time": "2021-11-15T16:53:17.213592",
     "exception": false,
     "start_time": "2021-11-15T16:53:17.182977",
     "status": "completed"
    },
    "tags": []
   },
   "outputs": [
    {
     "data": {
      "text/plain": [
       "PassengerId      int64\n",
       "Survived         int64\n",
       "Pclass           int64\n",
       "Name            object\n",
       "Sex             object\n",
       "Age            float64\n",
       "SibSp            int64\n",
       "Parch            int64\n",
       "Ticket          object\n",
       "Fare           float64\n",
       "Cabin           object\n",
       "Embarked        object\n",
       "dtype: object"
      ]
     },
     "execution_count": 6,
     "metadata": {},
     "output_type": "execute_result"
    }
   ],
   "source": [
    "df.dtypes"
   ]
  },
  {
   "cell_type": "code",
   "execution_count": 7,
   "id": "fac28dae",
   "metadata": {
    "execution": {
     "iopub.execute_input": "2021-11-15T16:53:17.255810Z",
     "iopub.status.busy": "2021-11-15T16:53:17.255135Z",
     "iopub.status.idle": "2021-11-15T16:53:17.296205Z",
     "shell.execute_reply": "2021-11-15T16:53:17.296737Z",
     "shell.execute_reply.started": "2021-11-15T16:52:08.836163Z"
    },
    "papermill": {
     "duration": 0.064189,
     "end_time": "2021-11-15T16:53:17.296905",
     "exception": false,
     "start_time": "2021-11-15T16:53:17.232716",
     "status": "completed"
    },
    "tags": []
   },
   "outputs": [
    {
     "data": {
      "text/html": [
       "<div>\n",
       "<style scoped>\n",
       "    .dataframe tbody tr th:only-of-type {\n",
       "        vertical-align: middle;\n",
       "    }\n",
       "\n",
       "    .dataframe tbody tr th {\n",
       "        vertical-align: top;\n",
       "    }\n",
       "\n",
       "    .dataframe thead th {\n",
       "        text-align: right;\n",
       "    }\n",
       "</style>\n",
       "<table border=\"1\" class=\"dataframe\">\n",
       "  <thead>\n",
       "    <tr style=\"text-align: right;\">\n",
       "      <th></th>\n",
       "      <th>PassengerId</th>\n",
       "      <th>Survived</th>\n",
       "      <th>Pclass</th>\n",
       "      <th>Age</th>\n",
       "      <th>SibSp</th>\n",
       "      <th>Parch</th>\n",
       "      <th>Fare</th>\n",
       "    </tr>\n",
       "  </thead>\n",
       "  <tbody>\n",
       "    <tr>\n",
       "      <th>count</th>\n",
       "      <td>891.000000</td>\n",
       "      <td>891.000000</td>\n",
       "      <td>891.000000</td>\n",
       "      <td>714.000000</td>\n",
       "      <td>891.000000</td>\n",
       "      <td>891.000000</td>\n",
       "      <td>891.000000</td>\n",
       "    </tr>\n",
       "    <tr>\n",
       "      <th>mean</th>\n",
       "      <td>446.000000</td>\n",
       "      <td>0.383838</td>\n",
       "      <td>2.308642</td>\n",
       "      <td>29.699118</td>\n",
       "      <td>0.523008</td>\n",
       "      <td>0.381594</td>\n",
       "      <td>32.204208</td>\n",
       "    </tr>\n",
       "    <tr>\n",
       "      <th>std</th>\n",
       "      <td>257.353842</td>\n",
       "      <td>0.486592</td>\n",
       "      <td>0.836071</td>\n",
       "      <td>14.526497</td>\n",
       "      <td>1.102743</td>\n",
       "      <td>0.806057</td>\n",
       "      <td>49.693429</td>\n",
       "    </tr>\n",
       "    <tr>\n",
       "      <th>min</th>\n",
       "      <td>1.000000</td>\n",
       "      <td>0.000000</td>\n",
       "      <td>1.000000</td>\n",
       "      <td>0.420000</td>\n",
       "      <td>0.000000</td>\n",
       "      <td>0.000000</td>\n",
       "      <td>0.000000</td>\n",
       "    </tr>\n",
       "    <tr>\n",
       "      <th>25%</th>\n",
       "      <td>223.500000</td>\n",
       "      <td>0.000000</td>\n",
       "      <td>2.000000</td>\n",
       "      <td>20.125000</td>\n",
       "      <td>0.000000</td>\n",
       "      <td>0.000000</td>\n",
       "      <td>7.910400</td>\n",
       "    </tr>\n",
       "    <tr>\n",
       "      <th>50%</th>\n",
       "      <td>446.000000</td>\n",
       "      <td>0.000000</td>\n",
       "      <td>3.000000</td>\n",
       "      <td>28.000000</td>\n",
       "      <td>0.000000</td>\n",
       "      <td>0.000000</td>\n",
       "      <td>14.454200</td>\n",
       "    </tr>\n",
       "    <tr>\n",
       "      <th>75%</th>\n",
       "      <td>668.500000</td>\n",
       "      <td>1.000000</td>\n",
       "      <td>3.000000</td>\n",
       "      <td>38.000000</td>\n",
       "      <td>1.000000</td>\n",
       "      <td>0.000000</td>\n",
       "      <td>31.000000</td>\n",
       "    </tr>\n",
       "    <tr>\n",
       "      <th>max</th>\n",
       "      <td>891.000000</td>\n",
       "      <td>1.000000</td>\n",
       "      <td>3.000000</td>\n",
       "      <td>80.000000</td>\n",
       "      <td>8.000000</td>\n",
       "      <td>6.000000</td>\n",
       "      <td>512.329200</td>\n",
       "    </tr>\n",
       "  </tbody>\n",
       "</table>\n",
       "</div>"
      ],
      "text/plain": [
       "       PassengerId    Survived      Pclass         Age       SibSp  \\\n",
       "count   891.000000  891.000000  891.000000  714.000000  891.000000   \n",
       "mean    446.000000    0.383838    2.308642   29.699118    0.523008   \n",
       "std     257.353842    0.486592    0.836071   14.526497    1.102743   \n",
       "min       1.000000    0.000000    1.000000    0.420000    0.000000   \n",
       "25%     223.500000    0.000000    2.000000   20.125000    0.000000   \n",
       "50%     446.000000    0.000000    3.000000   28.000000    0.000000   \n",
       "75%     668.500000    1.000000    3.000000   38.000000    1.000000   \n",
       "max     891.000000    1.000000    3.000000   80.000000    8.000000   \n",
       "\n",
       "            Parch        Fare  \n",
       "count  891.000000  891.000000  \n",
       "mean     0.381594   32.204208  \n",
       "std      0.806057   49.693429  \n",
       "min      0.000000    0.000000  \n",
       "25%      0.000000    7.910400  \n",
       "50%      0.000000   14.454200  \n",
       "75%      0.000000   31.000000  \n",
       "max      6.000000  512.329200  "
      ]
     },
     "execution_count": 7,
     "metadata": {},
     "output_type": "execute_result"
    }
   ],
   "source": [
    "df.describe()"
   ]
  },
  {
   "cell_type": "code",
   "execution_count": 8,
   "id": "1bbe22d7",
   "metadata": {
    "execution": {
     "iopub.execute_input": "2021-11-15T16:53:17.340456Z",
     "iopub.status.busy": "2021-11-15T16:53:17.339736Z",
     "iopub.status.idle": "2021-11-15T16:53:17.355319Z",
     "shell.execute_reply": "2021-11-15T16:53:17.355871Z",
     "shell.execute_reply.started": "2021-11-15T16:52:08.880186Z"
    },
    "papermill": {
     "duration": 0.039169,
     "end_time": "2021-11-15T16:53:17.356035",
     "exception": false,
     "start_time": "2021-11-15T16:53:17.316866",
     "status": "completed"
    },
    "tags": []
   },
   "outputs": [
    {
     "data": {
      "text/html": [
       "<div>\n",
       "<style scoped>\n",
       "    .dataframe tbody tr th:only-of-type {\n",
       "        vertical-align: middle;\n",
       "    }\n",
       "\n",
       "    .dataframe tbody tr th {\n",
       "        vertical-align: top;\n",
       "    }\n",
       "\n",
       "    .dataframe thead th {\n",
       "        text-align: right;\n",
       "    }\n",
       "</style>\n",
       "<table border=\"1\" class=\"dataframe\">\n",
       "  <thead>\n",
       "    <tr style=\"text-align: right;\">\n",
       "      <th></th>\n",
       "      <th>PassengerId</th>\n",
       "      <th>Survived</th>\n",
       "      <th>Pclass</th>\n",
       "      <th>Age</th>\n",
       "      <th>SibSp</th>\n",
       "      <th>Parch</th>\n",
       "      <th>Fare</th>\n",
       "    </tr>\n",
       "  </thead>\n",
       "  <tbody>\n",
       "    <tr>\n",
       "      <th>PassengerId</th>\n",
       "      <td>1.000000</td>\n",
       "      <td>-0.005007</td>\n",
       "      <td>-0.035144</td>\n",
       "      <td>0.036847</td>\n",
       "      <td>-0.057527</td>\n",
       "      <td>-0.001652</td>\n",
       "      <td>0.012658</td>\n",
       "    </tr>\n",
       "    <tr>\n",
       "      <th>Survived</th>\n",
       "      <td>-0.005007</td>\n",
       "      <td>1.000000</td>\n",
       "      <td>-0.338481</td>\n",
       "      <td>-0.077221</td>\n",
       "      <td>-0.035322</td>\n",
       "      <td>0.081629</td>\n",
       "      <td>0.257307</td>\n",
       "    </tr>\n",
       "    <tr>\n",
       "      <th>Pclass</th>\n",
       "      <td>-0.035144</td>\n",
       "      <td>-0.338481</td>\n",
       "      <td>1.000000</td>\n",
       "      <td>-0.369226</td>\n",
       "      <td>0.083081</td>\n",
       "      <td>0.018443</td>\n",
       "      <td>-0.549500</td>\n",
       "    </tr>\n",
       "    <tr>\n",
       "      <th>Age</th>\n",
       "      <td>0.036847</td>\n",
       "      <td>-0.077221</td>\n",
       "      <td>-0.369226</td>\n",
       "      <td>1.000000</td>\n",
       "      <td>-0.308247</td>\n",
       "      <td>-0.189119</td>\n",
       "      <td>0.096067</td>\n",
       "    </tr>\n",
       "    <tr>\n",
       "      <th>SibSp</th>\n",
       "      <td>-0.057527</td>\n",
       "      <td>-0.035322</td>\n",
       "      <td>0.083081</td>\n",
       "      <td>-0.308247</td>\n",
       "      <td>1.000000</td>\n",
       "      <td>0.414838</td>\n",
       "      <td>0.159651</td>\n",
       "    </tr>\n",
       "    <tr>\n",
       "      <th>Parch</th>\n",
       "      <td>-0.001652</td>\n",
       "      <td>0.081629</td>\n",
       "      <td>0.018443</td>\n",
       "      <td>-0.189119</td>\n",
       "      <td>0.414838</td>\n",
       "      <td>1.000000</td>\n",
       "      <td>0.216225</td>\n",
       "    </tr>\n",
       "    <tr>\n",
       "      <th>Fare</th>\n",
       "      <td>0.012658</td>\n",
       "      <td>0.257307</td>\n",
       "      <td>-0.549500</td>\n",
       "      <td>0.096067</td>\n",
       "      <td>0.159651</td>\n",
       "      <td>0.216225</td>\n",
       "      <td>1.000000</td>\n",
       "    </tr>\n",
       "  </tbody>\n",
       "</table>\n",
       "</div>"
      ],
      "text/plain": [
       "             PassengerId  Survived    Pclass       Age     SibSp     Parch  \\\n",
       "PassengerId     1.000000 -0.005007 -0.035144  0.036847 -0.057527 -0.001652   \n",
       "Survived       -0.005007  1.000000 -0.338481 -0.077221 -0.035322  0.081629   \n",
       "Pclass         -0.035144 -0.338481  1.000000 -0.369226  0.083081  0.018443   \n",
       "Age             0.036847 -0.077221 -0.369226  1.000000 -0.308247 -0.189119   \n",
       "SibSp          -0.057527 -0.035322  0.083081 -0.308247  1.000000  0.414838   \n",
       "Parch          -0.001652  0.081629  0.018443 -0.189119  0.414838  1.000000   \n",
       "Fare            0.012658  0.257307 -0.549500  0.096067  0.159651  0.216225   \n",
       "\n",
       "                 Fare  \n",
       "PassengerId  0.012658  \n",
       "Survived     0.257307  \n",
       "Pclass      -0.549500  \n",
       "Age          0.096067  \n",
       "SibSp        0.159651  \n",
       "Parch        0.216225  \n",
       "Fare         1.000000  "
      ]
     },
     "execution_count": 8,
     "metadata": {},
     "output_type": "execute_result"
    }
   ],
   "source": [
    "df.corr()"
   ]
  },
  {
   "cell_type": "code",
   "execution_count": 9,
   "id": "e65f36e0",
   "metadata": {
    "execution": {
     "iopub.execute_input": "2021-11-15T16:53:17.402162Z",
     "iopub.status.busy": "2021-11-15T16:53:17.401517Z",
     "iopub.status.idle": "2021-11-15T16:53:17.404256Z",
     "shell.execute_reply": "2021-11-15T16:53:17.403738Z",
     "shell.execute_reply.started": "2021-11-15T16:52:08.900695Z"
    },
    "papermill": {
     "duration": 0.027718,
     "end_time": "2021-11-15T16:53:17.404398",
     "exception": false,
     "start_time": "2021-11-15T16:53:17.376680",
     "status": "completed"
    },
    "tags": []
   },
   "outputs": [],
   "source": [
    "import scipy.stats as stats\n",
    "from scipy.stats import ttest_ind"
   ]
  },
  {
   "cell_type": "code",
   "execution_count": 10,
   "id": "572a972b",
   "metadata": {
    "execution": {
     "iopub.execute_input": "2021-11-15T16:53:17.458580Z",
     "iopub.status.busy": "2021-11-15T16:53:17.453716Z",
     "iopub.status.idle": "2021-11-15T16:53:17.469679Z",
     "shell.execute_reply": "2021-11-15T16:53:17.470190Z",
     "shell.execute_reply.started": "2021-11-15T16:52:08.905656Z"
    },
    "papermill": {
     "duration": 0.04553,
     "end_time": "2021-11-15T16:53:17.470362",
     "exception": false,
     "start_time": "2021-11-15T16:53:17.424832",
     "status": "completed"
    },
    "tags": []
   },
   "outputs": [],
   "source": [
    "x = pd.crosstab(df['Sex'],df['Survived'])"
   ]
  },
  {
   "cell_type": "code",
   "execution_count": 11,
   "id": "fa2e2f83",
   "metadata": {
    "execution": {
     "iopub.execute_input": "2021-11-15T16:53:17.513264Z",
     "iopub.status.busy": "2021-11-15T16:53:17.512687Z",
     "iopub.status.idle": "2021-11-15T16:53:17.519374Z",
     "shell.execute_reply": "2021-11-15T16:53:17.519922Z",
     "shell.execute_reply.started": "2021-11-15T16:52:08.935990Z"
    },
    "papermill": {
     "duration": 0.029503,
     "end_time": "2021-11-15T16:53:17.520091",
     "exception": false,
     "start_time": "2021-11-15T16:53:17.490588",
     "status": "completed"
    },
    "tags": []
   },
   "outputs": [
    {
     "data": {
      "text/html": [
       "<div>\n",
       "<style scoped>\n",
       "    .dataframe tbody tr th:only-of-type {\n",
       "        vertical-align: middle;\n",
       "    }\n",
       "\n",
       "    .dataframe tbody tr th {\n",
       "        vertical-align: top;\n",
       "    }\n",
       "\n",
       "    .dataframe thead th {\n",
       "        text-align: right;\n",
       "    }\n",
       "</style>\n",
       "<table border=\"1\" class=\"dataframe\">\n",
       "  <thead>\n",
       "    <tr style=\"text-align: right;\">\n",
       "      <th>Survived</th>\n",
       "      <th>0</th>\n",
       "      <th>1</th>\n",
       "    </tr>\n",
       "    <tr>\n",
       "      <th>Sex</th>\n",
       "      <th></th>\n",
       "      <th></th>\n",
       "    </tr>\n",
       "  </thead>\n",
       "  <tbody>\n",
       "    <tr>\n",
       "      <th>female</th>\n",
       "      <td>81</td>\n",
       "      <td>233</td>\n",
       "    </tr>\n",
       "    <tr>\n",
       "      <th>male</th>\n",
       "      <td>468</td>\n",
       "      <td>109</td>\n",
       "    </tr>\n",
       "  </tbody>\n",
       "</table>\n",
       "</div>"
      ],
      "text/plain": [
       "Survived    0    1\n",
       "Sex               \n",
       "female     81  233\n",
       "male      468  109"
      ]
     },
     "execution_count": 11,
     "metadata": {},
     "output_type": "execute_result"
    }
   ],
   "source": [
    "x.head()"
   ]
  },
  {
   "cell_type": "code",
   "execution_count": 12,
   "id": "3e736a01",
   "metadata": {
    "execution": {
     "iopub.execute_input": "2021-11-15T16:53:17.562254Z",
     "iopub.status.busy": "2021-11-15T16:53:17.561677Z",
     "iopub.status.idle": "2021-11-15T16:53:17.568967Z",
     "shell.execute_reply": "2021-11-15T16:53:17.569512Z",
     "shell.execute_reply.started": "2021-11-15T16:52:08.946081Z"
    },
    "papermill": {
     "duration": 0.029892,
     "end_time": "2021-11-15T16:53:17.569692",
     "exception": false,
     "start_time": "2021-11-15T16:53:17.539800",
     "status": "completed"
    },
    "tags": []
   },
   "outputs": [
    {
     "data": {
      "text/plain": [
       "PassengerId      0\n",
       "Survived         0\n",
       "Pclass           0\n",
       "Name             0\n",
       "Sex              0\n",
       "Age            177\n",
       "SibSp            0\n",
       "Parch            0\n",
       "Ticket           0\n",
       "Fare             0\n",
       "Cabin          687\n",
       "Embarked         2\n",
       "dtype: int64"
      ]
     },
     "execution_count": 12,
     "metadata": {},
     "output_type": "execute_result"
    }
   ],
   "source": [
    "df.isnull().sum()"
   ]
  },
  {
   "cell_type": "code",
   "execution_count": 13,
   "id": "7159bc06",
   "metadata": {
    "execution": {
     "iopub.execute_input": "2021-11-15T16:53:17.613072Z",
     "iopub.status.busy": "2021-11-15T16:53:17.612467Z",
     "iopub.status.idle": "2021-11-15T16:53:17.618835Z",
     "shell.execute_reply": "2021-11-15T16:53:17.619339Z",
     "shell.execute_reply.started": "2021-11-15T16:52:08.962486Z"
    },
    "papermill": {
     "duration": 0.029745,
     "end_time": "2021-11-15T16:53:17.619638",
     "exception": false,
     "start_time": "2021-11-15T16:53:17.589893",
     "status": "completed"
    },
    "tags": []
   },
   "outputs": [],
   "source": [
    "def cleanData(data):\n",
    "    \n",
    "    # Data missing and categorical to drop\n",
    "    data.drop(['Cabin','Name','Ticket'], axis=1, inplace=True)\n",
    "\n",
    "    # Data missing Case2\n",
    "    data['Age'] = data.groupby(['Pclass','Sex'])['Age'].transform(lambda x: x.fillna(x.median()))\n",
    "    \n",
    "    # FARE Data missing in test\n",
    "    data['Fare'] = data.groupby(['Pclass','Sex'])['Fare'].transform(lambda x: x.fillna(x.median()))\n",
    "\n",
    "    # Data missing Case3\n",
    "    data.dropna(axis=0, subset=['Embarked'], inplace=True)\n",
    "    \n",
    "    # Categorical Data\n",
    "    le = preprocessing.LabelEncoder()\n",
    "    \n",
    "    # Sex\n",
    "    data['Sex'].replace({'male':0, 'female':1}, inplace=True)\n",
    "    \n",
    "    # Embarked\n",
    "    data['Embarked'].replace({'S':0, 'C':1, 'Q':2}, inplace=True)\n",
    "    \n",
    "    return data\n"
   ]
  },
  {
   "cell_type": "code",
   "execution_count": 14,
   "id": "257eb6c8",
   "metadata": {
    "execution": {
     "iopub.execute_input": "2021-11-15T16:53:17.663923Z",
     "iopub.status.busy": "2021-11-15T16:53:17.663303Z",
     "iopub.status.idle": "2021-11-15T16:53:17.690888Z",
     "shell.execute_reply": "2021-11-15T16:53:17.691386Z",
     "shell.execute_reply.started": "2021-11-15T16:52:08.971601Z"
    },
    "papermill": {
     "duration": 0.051658,
     "end_time": "2021-11-15T16:53:17.691558",
     "exception": false,
     "start_time": "2021-11-15T16:53:17.639900",
     "status": "completed"
    },
    "tags": []
   },
   "outputs": [],
   "source": [
    "df = cleanData(df)\n",
    "df1 = cleanData(df1)\n"
   ]
  },
  {
   "cell_type": "code",
   "execution_count": 15,
   "id": "18969438",
   "metadata": {
    "execution": {
     "iopub.execute_input": "2021-11-15T16:53:17.735068Z",
     "iopub.status.busy": "2021-11-15T16:53:17.734502Z",
     "iopub.status.idle": "2021-11-15T16:53:18.149295Z",
     "shell.execute_reply": "2021-11-15T16:53:18.149819Z",
     "shell.execute_reply.started": "2021-11-15T16:52:09.009654Z"
    },
    "papermill": {
     "duration": 0.438016,
     "end_time": "2021-11-15T16:53:18.149988",
     "exception": false,
     "start_time": "2021-11-15T16:53:17.711972",
     "status": "completed"
    },
    "tags": []
   },
   "outputs": [
    {
     "data": {
      "text/plain": [
       "<AxesSubplot:xlabel='Age', ylabel='Fare'>"
      ]
     },
     "execution_count": 15,
     "metadata": {},
     "output_type": "execute_result"
    },
    {
     "data": {
      "image/png": "[encoded data removed]",
      "text/plain": [
       "<Figure size 432x288 with 1 Axes>"
      ]
     },
     "metadata": {
      "needs_background": "light"
     },
     "output_type": "display_data"
    }
   ],
   "source": [
    "df.plot.scatter('Age','Fare')"
   ]
  },
  {
   "cell_type": "code",
   "execution_count": 16,
   "id": "b98f58e8",
   "metadata": {
    "execution": {
     "iopub.execute_input": "2021-11-15T16:53:18.195587Z",
     "iopub.status.busy": "2021-11-15T16:53:18.194965Z",
     "iopub.status.idle": "2021-11-15T16:53:18.200726Z",
     "shell.execute_reply": "2021-11-15T16:53:18.200223Z",
     "shell.execute_reply.started": "2021-11-15T16:52:09.404352Z"
    },
    "papermill": {
     "duration": 0.029526,
     "end_time": "2021-11-15T16:53:18.200879",
     "exception": false,
     "start_time": "2021-11-15T16:53:18.171353",
     "status": "completed"
    },
    "tags": []
   },
   "outputs": [],
   "source": [
    "df = df[df['Fare']<300]"
   ]
  },
  {
   "cell_type": "code",
   "execution_count": 17,
   "id": "e827e7aa",
   "metadata": {
    "execution": {
     "iopub.execute_input": "2021-11-15T16:53:18.254090Z",
     "iopub.status.busy": "2021-11-15T16:53:18.253472Z",
     "iopub.status.idle": "2021-11-15T16:53:18.269843Z",
     "shell.execute_reply": "2021-11-15T16:53:18.270397Z",
     "shell.execute_reply.started": "2021-11-15T16:52:09.412237Z"
    },
    "papermill": {
     "duration": 0.04848,
     "end_time": "2021-11-15T16:53:18.270615",
     "exception": false,
     "start_time": "2021-11-15T16:53:18.222135",
     "status": "completed"
    },
    "tags": []
   },
   "outputs": [
    {
     "name": "stdout",
     "output_type": "stream",
     "text": [
      "<class 'pandas.core.frame.DataFrame'>\n",
      "Int64Index: 886 entries, 0 to 890\n",
      "Data columns (total 9 columns):\n",
      " #   Column       Non-Null Count  Dtype  \n",
      "---  ------       --------------  -----  \n",
      " 0   PassengerId  886 non-null    int64  \n",
      " 1   Survived     886 non-null    int64  \n",
      " 2   Pclass       886 non-null    int64  \n",
      " 3   Sex          886 non-null    int64  \n",
      " 4   Age          886 non-null    float64\n",
      " 5   SibSp        886 non-null    int64  \n",
      " 6   Parch        886 non-null    int64  \n",
      " 7   Fare         886 non-null    float64\n",
      " 8   Embarked     886 non-null    int64  \n",
      "dtypes: float64(2), int64(7)\n",
      "memory usage: 69.2 KB\n",
      "<class 'pandas.core.frame.DataFrame'>\n",
      "Int64Index: 418 entries, 0 to 417\n",
      "Data columns (total 8 columns):\n",
      " #   Column       Non-Null Count  Dtype  \n",
      "---  ------       --------------  -----  \n",
      " 0   PassengerId  418 non-null    int64  \n",
      " 1   Pclass       418 non-null    int64  \n",
      " 2   Sex          418 non-null    int64  \n",
      " 3   Age          418 non-null    float64\n",
      " 4   SibSp        418 non-null    int64  \n",
      " 5   Parch        418 non-null    int64  \n",
      " 6   Fare         418 non-null    float64\n",
      " 7   Embarked     418 non-null    int64  \n",
      "dtypes: float64(2), int64(6)\n",
      "memory usage: 29.4 KB\n"
     ]
    }
   ],
   "source": [
    "df.info()\n",
    "df1.info()"
   ]
  },
  {
   "cell_type": "code",
   "execution_count": 18,
   "id": "3d32722d",
   "metadata": {
    "execution": {
     "iopub.execute_input": "2021-11-15T16:53:18.323420Z",
     "iopub.status.busy": "2021-11-15T16:53:18.320319Z",
     "iopub.status.idle": "2021-11-15T16:53:18.326452Z",
     "shell.execute_reply": "2021-11-15T16:53:18.325934Z",
     "shell.execute_reply.started": "2021-11-15T16:52:09.439126Z"
    },
    "papermill": {
     "duration": 0.034421,
     "end_time": "2021-11-15T16:53:18.326597",
     "exception": false,
     "start_time": "2021-11-15T16:53:18.292176",
     "status": "completed"
    },
    "tags": []
   },
   "outputs": [],
   "source": [
    "x = pd.get_dummies(df.drop('Survived', axis=1))\n",
    "y = df['Survived']"
   ]
  },
  {
   "cell_type": "code",
   "execution_count": 19,
   "id": "8af6b234",
   "metadata": {
    "execution": {
     "iopub.execute_input": "2021-11-15T16:53:18.374537Z",
     "iopub.status.busy": "2021-11-15T16:53:18.373747Z",
     "iopub.status.idle": "2021-11-15T16:53:18.424095Z",
     "shell.execute_reply": "2021-11-15T16:53:18.423460Z",
     "shell.execute_reply.started": "2021-11-15T16:52:09.449795Z"
    },
    "papermill": {
     "duration": 0.076291,
     "end_time": "2021-11-15T16:53:18.424272",
     "exception": false,
     "start_time": "2021-11-15T16:53:18.347981",
     "status": "completed"
    },
    "tags": []
   },
   "outputs": [],
   "source": [
    "from sklearn.model_selection import train_test_split"
   ]
  },
  {
   "cell_type": "code",
   "execution_count": 20,
   "id": "4530a20b",
   "metadata": {
    "execution": {
     "iopub.execute_input": "2021-11-15T16:53:18.476796Z",
     "iopub.status.busy": "2021-11-15T16:53:18.475259Z",
     "iopub.status.idle": "2021-11-15T16:53:18.479896Z",
     "shell.execute_reply": "2021-11-15T16:53:18.479353Z",
     "shell.execute_reply.started": "2021-11-15T16:52:09.512416Z"
    },
    "papermill": {
     "duration": 0.033591,
     "end_time": "2021-11-15T16:53:18.480041",
     "exception": false,
     "start_time": "2021-11-15T16:53:18.446450",
     "status": "completed"
    },
    "tags": []
   },
   "outputs": [],
   "source": [
    "train_x,test_x,train_y,test_y = train_test_split(x,y, test_size=418, random_state=42)"
   ]
  },
  {
   "cell_type": "code",
   "execution_count": 21,
   "id": "0e37e53a",
   "metadata": {
    "execution": {
     "iopub.execute_input": "2021-11-15T16:53:18.528645Z",
     "iopub.status.busy": "2021-11-15T16:53:18.526885Z",
     "iopub.status.idle": "2021-11-15T16:53:18.603121Z",
     "shell.execute_reply": "2021-11-15T16:53:18.602000Z",
     "shell.execute_reply.started": "2021-11-15T16:52:09.523869Z"
    },
    "papermill": {
     "duration": 0.100801,
     "end_time": "2021-11-15T16:53:18.603303",
     "exception": false,
     "start_time": "2021-11-15T16:53:18.502502",
     "status": "completed"
    },
    "tags": []
   },
   "outputs": [],
   "source": [
    "from sklearn.linear_model import LogisticRegression"
   ]
  },
  {
   "cell_type": "code",
   "execution_count": 22,
   "id": "30c643dd",
   "metadata": {
    "execution": {
     "iopub.execute_input": "2021-11-15T16:53:18.650475Z",
     "iopub.status.busy": "2021-11-15T16:53:18.649835Z",
     "iopub.status.idle": "2021-11-15T16:53:18.653953Z",
     "shell.execute_reply": "2021-11-15T16:53:18.653354Z",
     "shell.execute_reply.started": "2021-11-15T16:52:09.610591Z"
    },
    "papermill": {
     "duration": 0.028684,
     "end_time": "2021-11-15T16:53:18.654089",
     "exception": false,
     "start_time": "2021-11-15T16:53:18.625405",
     "status": "completed"
    },
    "tags": []
   },
   "outputs": [],
   "source": [
    "logreg = LogisticRegression(random_state=42, solver='liblinear', max_iter = 10000)"
   ]
  },
  {
   "cell_type": "code",
   "execution_count": 23,
   "id": "1cb4d35a",
   "metadata": {
    "execution": {
     "iopub.execute_input": "2021-11-15T16:53:18.703197Z",
     "iopub.status.busy": "2021-11-15T16:53:18.702552Z",
     "iopub.status.idle": "2021-11-15T16:53:18.711281Z",
     "shell.execute_reply": "2021-11-15T16:53:18.711773Z",
     "shell.execute_reply.started": "2021-11-15T16:52:09.616750Z"
    },
    "papermill": {
     "duration": 0.036373,
     "end_time": "2021-11-15T16:53:18.711946",
     "exception": false,
     "start_time": "2021-11-15T16:53:18.675573",
     "status": "completed"
    },
    "tags": []
   },
   "outputs": [
    {
     "data": {
      "text/plain": [
       "LogisticRegression(max_iter=10000, random_state=42, solver='liblinear')"
      ]
     },
     "execution_count": 23,
     "metadata": {},
     "output_type": "execute_result"
    }
   ],
   "source": [
    "logreg.fit(train_x,train_y)"
   ]
  },
  {
   "cell_type": "code",
   "execution_count": 24,
   "id": "4280698a",
   "metadata": {
    "execution": {
     "iopub.execute_input": "2021-11-15T16:53:18.759904Z",
     "iopub.status.busy": "2021-11-15T16:53:18.759285Z",
     "iopub.status.idle": "2021-11-15T16:53:18.764485Z",
     "shell.execute_reply": "2021-11-15T16:53:18.764982Z",
     "shell.execute_reply.started": "2021-11-15T16:52:09.636098Z"
    },
    "papermill": {
     "duration": 0.030933,
     "end_time": "2021-11-15T16:53:18.765178",
     "exception": false,
     "start_time": "2021-11-15T16:53:18.734245",
     "status": "completed"
    },
    "tags": []
   },
   "outputs": [],
   "source": [
    "pred = logreg.predict(test_x)"
   ]
  },
  {
   "cell_type": "code",
   "execution_count": 25,
   "id": "b9e556cb",
   "metadata": {
    "execution": {
     "iopub.execute_input": "2021-11-15T16:53:18.811344Z",
     "iopub.status.busy": "2021-11-15T16:53:18.810724Z",
     "iopub.status.idle": "2021-11-15T16:53:18.819900Z",
     "shell.execute_reply": "2021-11-15T16:53:18.820386Z",
     "shell.execute_reply.started": "2021-11-15T16:52:09.642977Z"
    },
    "papermill": {
     "duration": 0.033858,
     "end_time": "2021-11-15T16:53:18.820557",
     "exception": false,
     "start_time": "2021-11-15T16:53:18.786699",
     "status": "completed"
    },
    "tags": []
   },
   "outputs": [],
   "source": [
    "predict = logreg.predict(pd.get_dummies(df1))"
   ]
  },
  {
   "cell_type": "code",
   "execution_count": 26,
   "id": "f12e432e",
   "metadata": {
    "execution": {
     "iopub.execute_input": "2021-11-15T16:53:18.869935Z",
     "iopub.status.busy": "2021-11-15T16:53:18.869303Z",
     "iopub.status.idle": "2021-11-15T16:53:18.876658Z",
     "shell.execute_reply": "2021-11-15T16:53:18.877140Z",
     "shell.execute_reply.started": "2021-11-15T16:52:09.657936Z"
    },
    "papermill": {
     "duration": 0.032779,
     "end_time": "2021-11-15T16:53:18.877338",
     "exception": false,
     "start_time": "2021-11-15T16:53:18.844559",
     "status": "completed"
    },
    "tags": []
   },
   "outputs": [
    {
     "data": {
      "text/plain": [
       "0.7918660287081339"
      ]
     },
     "execution_count": 26,
     "metadata": {},
     "output_type": "execute_result"
    }
   ],
   "source": [
    "logreg.score(test_x,test_y)"
   ]
  },
  {
   "cell_type": "code",
   "execution_count": 27,
   "id": "9ae34187",
   "metadata": {
    "execution": {
     "iopub.execute_input": "2021-11-15T16:53:18.927293Z",
     "iopub.status.busy": "2021-11-15T16:53:18.926662Z",
     "iopub.status.idle": "2021-11-15T16:53:18.930787Z",
     "shell.execute_reply": "2021-11-15T16:53:18.931257Z",
     "shell.execute_reply.started": "2021-11-15T16:52:09.670838Z"
    },
    "papermill": {
     "duration": 0.030296,
     "end_time": "2021-11-15T16:53:18.931418",
     "exception": false,
     "start_time": "2021-11-15T16:53:18.901122",
     "status": "completed"
    },
    "tags": []
   },
   "outputs": [],
   "source": [
    "output = pd.DataFrame({'PassengerId': df1.PassengerId, 'Survived': predict})"
   ]
  },
  {
   "cell_type": "code",
   "execution_count": 28,
   "id": "b8fc45f3",
   "metadata": {
    "execution": {
     "iopub.execute_input": "2021-11-15T16:53:18.979582Z",
     "iopub.status.busy": "2021-11-15T16:53:18.978914Z",
     "iopub.status.idle": "2021-11-15T16:53:18.986374Z",
     "shell.execute_reply": "2021-11-15T16:53:18.986856Z",
     "shell.execute_reply.started": "2021-11-15T16:52:09.681351Z"
    },
    "papermill": {
     "duration": 0.032521,
     "end_time": "2021-11-15T16:53:18.987031",
     "exception": false,
     "start_time": "2021-11-15T16:53:18.954510",
     "status": "completed"
    },
    "tags": []
   },
   "outputs": [
    {
     "name": "stdout",
     "output_type": "stream",
     "text": [
      "Submission saved\n"
     ]
    }
   ],
   "source": [
    "output.to_csv('my_submission.csv', index=False)\n",
    "print(\"Submission saved\")"
   ]
  },
  {
   "cell_type": "code",
   "execution_count": null,
   "id": "6f7e1b64",
   "metadata": {
    "papermill": {
     "duration": 0.023349,
     "end_time": "2021-11-15T16:53:19.032933",
     "exception": false,
     "start_time": "2021-11-15T16:53:19.009584",
     "status": "completed"
    },
    "tags": []
   },
   "outputs": [],
   "source": []
  }
 ],
 "metadata": {
  "kernelspec": {
   "display_name": "Python 3",
   "language": "python",
   "name": "python3"
  },
  "language_info": {
   "codemirror_mode": {
    "name": "ipython",
    "version": 3
   },
   "file_extension": ".py",
   "mimetype": "text/x-python",
   "name": "python",
   "nbconvert_exporter": "python",
   "pygments_lexer": "ipython3",
   "version": "3.7.10"
  },
  "papermill": {
   "default_parameters": {},
   "duration": 12.176934,
   "end_time": "2021-11-15T16:53:19.769794",
   "environment_variables": {},
   "exception": null,
   "input_path": "__notebook__.ipynb",
   "output_path": "__notebook__.ipynb",
   "parameters": {},
   "start_time": "2021-11-15T16:53:07.592860",
   "version": "2.3.3"
  }
 },
 "nbformat": 4,
 "nbformat_minor": 5
}
